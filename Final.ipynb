{
 "cells": [
  {
   "cell_type": "markdown",
   "metadata": {
    "collapsed": true
   },
   "source": [
    "# My Jupyter Notebook on IBM Watson Studio"
   ]
  },
  {
   "cell_type": "markdown",
   "metadata": {},
   "source": [
    "**My name is Santiago Camelo** <br>\n",
    "My current ocuppation is cibersecurity analyst and I want to be a data scientist "
   ]
  },
  {
   "cell_type": "markdown",
   "metadata": {},
   "source": [
    "*I’ve been interested in data science since I learned about machine learning, I wanted to know how those algorithms worked, so I started studying more about this.* <br>\n",
    "*I also did my degree work on hand gestures classification where I got more interest in this career*"
   ]
  },
  {
   "cell_type": "markdown",
   "metadata": {},
   "source": [
    "### The following code calculates the distance between two vectors"
   ]
  },
  {
   "cell_type": "code",
   "execution_count": 19,
   "metadata": {},
   "outputs": [
    {
     "name": "stdout",
     "output_type": "stream",
     "text": [
      "The result is:  2.23606797749979\n"
     ]
    }
   ],
   "source": [
    "import numpy as np\n",
    "vector1=np.array((8,1))\n",
    "vector2=np.array((7,3))\n",
    "dist = np.linalg.norm(vector1-vector2)\n",
    "print(\"The result is: \",dist)"
   ]
  },
  {
   "cell_type": "markdown",
   "metadata": {},
   "source": [
    "## HORIZONTAL RULE\n",
    "\n",
    "----"
   ]
  },
  {
   "cell_type": "markdown",
   "metadata": {},
   "source": [
    "## TABLE\n",
    "| Name | Age | City |\n",
    "| --- | --- | --- |\n",
    "| Carlos | 36 | Orlando |\n",
    "| --- | --- | --- |\n",
    "| Julia | 24 | LA |"
   ]
  },
  {
   "cell_type": "markdown",
   "metadata": {},
   "source": [
    "__[This link will take you to IBM website](https://www.ibm.com/us-en/)__"
   ]
  },
  {
   "cell_type": "markdown",
   "metadata": {},
   "source": [
    ">This is my first blocked quote\n",
    ">\n",
    ">This is my second blocked quote"
   ]
  }
 ],
 "metadata": {
  "kernelspec": {
   "display_name": "Python 3.10",
   "language": "python",
   "name": "python3"
  },
  "language_info": {
   "codemirror_mode": {
    "name": "ipython",
    "version": 3
   },
   "file_extension": ".py",
   "mimetype": "text/x-python",
   "name": "python",
   "nbconvert_exporter": "python",
   "pygments_lexer": "ipython3",
   "version": "3.10.6"
  }
 },
 "nbformat": 4,
 "nbformat_minor": 1
}
